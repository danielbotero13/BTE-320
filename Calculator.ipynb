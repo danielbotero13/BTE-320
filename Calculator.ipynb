{
  "nbformat": 4,
  "nbformat_minor": 0,
  "metadata": {
    "colab": {
      "provenance": [],
      "authorship_tag": "ABX9TyPvpvQwWEfNUL5W0htMm+GM",
      "include_colab_link": true
    },
    "kernelspec": {
      "name": "python3",
      "display_name": "Python 3"
    },
    "language_info": {
      "name": "python"
    }
  },
  "cells": [
    {
      "cell_type": "markdown",
      "metadata": {
        "id": "view-in-github",
        "colab_type": "text"
      },
      "source": [
        "<a href=\"https://colab.research.google.com/github/danielbotero13/BTE-320/blob/main/Calculator.ipynb\" target=\"_parent\"><img src=\"https://colab.research.google.com/assets/colab-badge.svg\" alt=\"Open In Colab\"/></a>"
      ]
    },
    {
      "cell_type": "markdown",
      "source": [
        "Calculator"
      ],
      "metadata": {
        "id": "7i0nKNtHTvwQ"
      }
    },
    {
      "cell_type": "code",
      "execution_count": 3,
      "metadata": {
        "colab": {
          "base_uri": "https://localhost:8080/"
        },
        "id": "65_lJNUPTirM",
        "outputId": "5cf4e922-2cdd-4c3d-a167-634ffa4d09c6"
      },
      "outputs": [
        {
          "output_type": "stream",
          "name": "stdout",
          "text": [
            "Select operation:\n",
            "1. Add\n",
            "2. Subtract\n",
            "3. Multiply\n",
            "4. Divide\n",
            "5. End\n",
            "Enter choice (1/2/3/4/5): 3\n",
            "Enter first number: 2.15\n",
            "Enter second number: 6.78\n",
            "2.15 * 6.78 = 14.577\n",
            "Select operation:\n",
            "1. Add\n",
            "2. Subtract\n",
            "3. Multiply\n",
            "4. Divide\n",
            "5. End\n",
            "Enter choice (1/2/3/4/5): end\n",
            "Invalid Input\n",
            "Select operation:\n",
            "1. Add\n",
            "2. Subtract\n",
            "3. Multiply\n",
            "4. Divide\n",
            "5. End\n",
            "Enter choice (1/2/3/4/5): 5\n",
            "Calculator is shutting down...\n"
          ]
        }
      ],
      "source": [
        "def add(x, y):\n",
        "    return x + y\n",
        "\n",
        "def subtract(x, y):\n",
        "    return x - y\n",
        "\n",
        "def multiply(x, y):\n",
        "    return x * y\n",
        "\n",
        "def divide(x, y):\n",
        "    if y == 0:\n",
        "        return \"Error! Division by zero is not allowed.\"\n",
        "    else:\n",
        "        return x / y\n",
        "\n",
        "\n",
        "while True:\n",
        "    print(\"Select operation:\")\n",
        "    print(\"1. Add\")\n",
        "    print(\"2. Subtract\")\n",
        "    print(\"3. Multiply\")\n",
        "    print(\"4. Divide\")\n",
        "    print(\"5. End\")\n",
        "\n",
        "    choice = input(\"Enter choice (1/2/3/4/5): \")\n",
        "\n",
        "    if choice in ('1', '2', '3', '4'):\n",
        "        num1 = input(\"Enter first number: \")\n",
        "        num2 = input(\"Enter second number: \")\n",
        "\n",
        "        if choice == '1':\n",
        "            print(num1, \"+\", num2, \"=\", add(float(num1), float(num2)))\n",
        "\n",
        "        elif choice == '2':\n",
        "            print(num1, \"-\", num2, \"=\", subtract(float(num1), float(num2)))\n",
        "\n",
        "        elif choice == '3':\n",
        "            print(num1, \"*\", num2, \"=\", multiply(float(num1), float(num2)))\n",
        "\n",
        "        elif choice == '4':\n",
        "            print(num1, \"/\", num2, \"=\", divide(float(num1), float(num2)))\n",
        "\n",
        "    elif choice == '5':\n",
        "        print(\"Calculator is shutting down...\")\n",
        "        break\n",
        "\n",
        "    else:\n",
        "        print(\"Invalid Input\")"
      ]
    }
  ]
}