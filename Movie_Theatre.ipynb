{
  "nbformat": 4,
  "nbformat_minor": 0,
  "metadata": {
    "colab": {
      "provenance": [],
      "include_colab_link": true
    },
    "kernelspec": {
      "name": "python3",
      "display_name": "Python 3"
    },
    "language_info": {
      "name": "python"
    }
  },
  "cells": [
    {
      "cell_type": "markdown",
      "metadata": {
        "id": "view-in-github",
        "colab_type": "text"
      },
      "source": [
        "<a href=\"https://colab.research.google.com/github/danielbotero13/BTE-320/blob/main/Movie_Theatre.ipynb\" target=\"_parent\"><img src=\"https://colab.research.google.com/assets/colab-badge.svg\" alt=\"Open In Colab\"/></a>"
      ]
    },
    {
      "cell_type": "code",
      "execution_count": 1,
      "metadata": {
        "id": "nz7erBwxt9IY",
        "outputId": "bf408099-7567-4f29-e703-472edfade9e5",
        "colab": {
          "base_uri": "https://localhost:8080/"
        }
      },
      "outputs": [
        {
          "output_type": "stream",
          "name": "stdout",
          "text": [
            "range(0, 225, 25) 0\n",
            "range(0, 225, 25) 75\n",
            "range(0, 225, 25) 90\n",
            "range(0, 225, 25) 105\n",
            "range(0, 225, 25) 100\n",
            "range(0, 225, 25) 95\n",
            "range(0, 225, 25) 90\n",
            "range(0, 225, 25) 85\n",
            "range(0, 225, 25) 80\n"
          ]
        }
      ],
      "source": [
        "x=range(0, 225, 25)\n",
        "fixed_cost=200\n",
        "ticket=10\n",
        "forecasted_attendees=20\n",
        "for ad_cost in range(0,225,25):\n",
        "    additonal_attendees= 2* round(ad_cost**.5)\n",
        "    profit= ticket*additonal_attendees-ad_cost\n",
        "    print(x, profit)"
      ]
    }
  ]
}