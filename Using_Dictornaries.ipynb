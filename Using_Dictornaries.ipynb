{
  "nbformat": 4,
  "nbformat_minor": 0,
  "metadata": {
    "colab": {
      "provenance": [],
      "include_colab_link": true
    },
    "kernelspec": {
      "name": "python3",
      "display_name": "Python 3"
    },
    "language_info": {
      "name": "python"
    }
  },
  "cells": [
    {
      "cell_type": "markdown",
      "metadata": {
        "id": "view-in-github",
        "colab_type": "text"
      },
      "source": [
        "<a href=\"https://colab.research.google.com/github/danielbotero13/BTE-320/blob/main/Using_Dictornaries.ipynb\" target=\"_parent\"><img src=\"https://colab.research.google.com/assets/colab-badge.svg\" alt=\"Open In Colab\"/></a>"
      ]
    },
    {
      "cell_type": "code",
      "execution_count": 1,
      "metadata": {
        "id": "Q7YNpo0vEBWu",
        "outputId": "7a9218e3-b887-4330-df81-0e3c77322b90",
        "colab": {
          "base_uri": "https://localhost:8080/"
        }
      },
      "outputs": [
        {
          "output_type": "stream",
          "name": "stdout",
          "text": [
            "Ana\n",
            "\n",
            "John\n",
            "\n",
            "Denise\n",
            "\n",
            "Katy\n",
            "\n",
            "81\n",
            "\n",
            "90\n",
            "\n",
            "92\n",
            "\n",
            "93\n",
            "\n",
            "Ana 81\n",
            "John 90\n",
            "Denise 92\n",
            "Katy 93\n"
          ]
        }
      ],
      "source": [
        "grades = {'Ana':'81', 'John':'90', 'Denise':'92', 'Katy':'93'}\n",
        "for key in grades.keys():\n",
        " print(key)\n",
        " print()\n",
        "for value in grades.values():\n",
        " print(value)\n",
        " print()\n",
        "for key, value in grades.items():\n",
        " print(key, value)"
      ]
    },
    {
      "cell_type": "code",
      "source": [
        "months = {1: \"January\", 2: \"February\", 3: \"March\"}\n",
        "\n",
        "print(f'The first month in a year is {months[1]}')"
      ],
      "metadata": {
        "colab": {
          "base_uri": "https://localhost:8080/"
        },
        "id": "mawLNldskvcY",
        "outputId": "da315c2b-17d2-4464-f214-82ad7057b81f"
      },
      "execution_count": 2,
      "outputs": [
        {
          "output_type": "stream",
          "name": "stdout",
          "text": [
            "The first month in a year is January\n"
          ]
        }
      ]
    },
    {
      "cell_type": "markdown",
      "source": [],
      "metadata": {
        "id": "eod32Dl4qdlz"
      }
    },
    {
      "cell_type": "code",
      "source": [
        "months = {}\n",
        "\n",
        "numbers = [1,2,3,4,5,6,7,8,9,10,11,12]\n",
        "names = [\"Jan\", \"Feb\", \"Mar\", \"Apr\", \"May\", \"Jun\", \"Jul\", \"Aug\", \"Sep\", \"Oct\", \"Nov\", \"Dec\"]\n",
        "\n",
        "for num in numbers:\n",
        "  months[num] = names [num -1]\n",
        "print(months)"
      ],
      "metadata": {
        "colab": {
          "base_uri": "https://localhost:8080/"
        },
        "id": "-qXb1PGUl_AZ",
        "outputId": "af3e5a3c-0fd3-4bc4-c9ac-0e32aef5cf4a"
      },
      "execution_count": 3,
      "outputs": [
        {
          "output_type": "stream",
          "name": "stdout",
          "text": [
            "{1: 'Jan', 2: 'Feb', 3: 'Mar', 4: 'Apr', 5: 'May', 6: 'Jun', 7: 'Jul', 8: 'Aug', 9: 'Sep', 10: 'Oct', 11: 'Nov', 12: 'Dec'}\n"
          ]
        }
      ]
    }
  ]
}