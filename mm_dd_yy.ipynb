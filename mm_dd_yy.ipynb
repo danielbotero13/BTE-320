{
  "nbformat": 4,
  "nbformat_minor": 0,
  "metadata": {
    "colab": {
      "provenance": [],
      "authorship_tag": "ABX9TyOZVJVnsGw7I+FgSyGBxkAw",
      "include_colab_link": true
    },
    "kernelspec": {
      "name": "python3",
      "display_name": "Python 3"
    },
    "language_info": {
      "name": "python"
    }
  },
  "cells": [
    {
      "cell_type": "markdown",
      "metadata": {
        "id": "view-in-github",
        "colab_type": "text"
      },
      "source": [
        "<a href=\"https://colab.research.google.com/github/danielbotero13/BTE-320/blob/main/mm_dd_yy.ipynb\" target=\"_parent\"><img src=\"https://colab.research.google.com/assets/colab-badge.svg\" alt=\"Open In Colab\"/></a>"
      ]
    },
    {
      "cell_type": "code",
      "execution_count": 2,
      "metadata": {
        "colab": {
          "base_uri": "https://localhost:8080/"
        },
        "id": "4VjQkuuSxUII",
        "outputId": "2ad8ee83-86c7-4836-8486-a83834f9bc21"
      },
      "outputs": [
        {
          "output_type": "stream",
          "name": "stdout",
          "text": [
            "MM/DD/YYYY04/13/2003\n",
            "04/13/2003\n",
            "month = 04\n",
            "day = 13\n",
            "year = 2003\n"
          ]
        }
      ],
      "source": [
        "x = input(\"MM/DD/YYYY\")\n",
        "print(x)\n",
        "s=x\n",
        "month = s[:2]\n",
        "day = s[3:5]\n",
        "year = s[6:]\n",
        "print(\"month =\", month)\n",
        "print(\"day =\", day)\n",
        "print(\"year =\", year)\n"
      ]
    }
  ]
}