{
  "nbformat": 4,
  "nbformat_minor": 0,
  "metadata": {
    "colab": {
      "provenance": [],
      "include_colab_link": true
    },
    "kernelspec": {
      "name": "python3",
      "display_name": "Python 3"
    },
    "language_info": {
      "name": "python"
    }
  },
  "cells": [
    {
      "cell_type": "markdown",
      "metadata": {
        "id": "view-in-github",
        "colab_type": "text"
      },
      "source": [
        "<a href=\"https://colab.research.google.com/github/danielbotero13/BTE-320/blob/main/List_Creator.ipynb\" target=\"_parent\"><img src=\"https://colab.research.google.com/assets/colab-badge.svg\" alt=\"Open In Colab\"/></a>"
      ]
    },
    {
      "cell_type": "code",
      "execution_count": 1,
      "metadata": {
        "colab": {
          "base_uri": "https://localhost:8080/"
        },
        "id": "dc0LGuSHz494",
        "outputId": "605d261a-48c9-4145-d76f-5218fed94e77"
      },
      "outputs": [
        {
          "output_type": "stream",
          "name": "stdout",
          "text": [
            "Enter a number: 9\n",
            "Enter a number: 8\n",
            "Enter a number: 7\n",
            "Enter a number: 4\n",
            "Enter a number: 6\n",
            "Enter a number: 0\n",
            "Numbers: [9, 8, 7, 4, 6]\n"
          ]
        }
      ],
      "source": [
        "L = []\n",
        "\n",
        "while True:\n",
        "    user_input = input(\"Enter a number: \")\n",
        "    number = int(user_input)\n",
        "    if number == 0:\n",
        "        break\n",
        "    L.append(number)\n",
        "\n",
        "print(\"Numbers:\", L)\n"
      ]
    }
  ]
}